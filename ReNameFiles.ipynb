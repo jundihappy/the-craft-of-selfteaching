{
 "cells": [
  {
   "cell_type": "code",
   "execution_count": 11,
   "metadata": {},
   "outputs": [
    {
     "name": "stdout",
     "output_type": "stream",
     "text": [
      "修改前：'\n",
      "1\n",
      "Test1\n",
      "2\n",
      "2\n",
      "TestTestTest\n",
      "3\n",
      "3\n",
      "TestTest新建文件夹\n",
      "4\n",
      "***************************************\n",
      "修改后：'\n"
     ]
    }
   ],
   "source": [
    "# --** coding=\"UTF-8\" **--\n",
    "# \n",
    "# author:SueMagic  time:2019-01-01\n",
    "# Modify:AndyYang  time:2020-03-21\n",
    "import os\n",
    "import re\n",
    "import sys\n",
    "\n",
    "# 获取文件夹名称\n",
    "def get_foldername()\n",
    "    pass\n",
    "\n",
    "# 修改文件名称\n",
    "def rename_filename()\n",
    "    pass\n",
    "        \n",
    "# fileList = os.listdir(r\"./neteasy_playlist_data3\")\n",
    "fileList = os.listdir(r\"C:\\Users\\jundihappy\\Documents\\GitHub\\renamefiletest\")\n",
    "# 此处获得当前文件夹的名称\n",
    "# folderName = os\n",
    "    \n",
    "# 输出此文件夹中包含的文件名称\n",
    "print(\"修改前：\" + str(fileList)[1])\n",
    "# 得到进程当前工作目录\n",
    "currentpath = os.getcwd()\n",
    "# 将当前工作目录修改为待修改文件夹的位置\n",
    "# os.chdir(r\"./neteasy_playlist_data3\")\n",
    "os.chdir(r\"C:\\Users\\jundihappy\\Documents\\GitHub\\renamefiletest\")\n",
    "# 名称变量\n",
    "num = 1\n",
    "# 遍历文件夹中所有文件\n",
    "for fileName in fileList:\n",
    "# 匹配文件名正则表达式\n",
    "# pat = \".+\\.(json)\"\n",
    "# 进行匹配\n",
    "# pattern = re.findall(pat, fileName)\n",
    "    # 文件重新命名，使用文件夹名 + 日期 + 序号（从1开始）\n",
    "    # 希望附加的功能，根据文件夹内部的文件数，在序号之前增加数字零进行补位，保持文件名称的一致性\n",
    "    # \n",
    "    # os.rename(fileName, (str(num + 839) + '.' + pattern[0]))\n",
    "    os.rename(fileName, \"Test\" + str(num))\n",
    "    print(num)\n",
    "    print(fileName)\n",
    "    # 改变编号，继续下一项\n",
    "    num = num + 1\n",
    "    print(num)\n",
    "print(\"***************************************\")\n",
    "# 改回程序运行前的工作目录\n",
    "os.chdir(currentpath)\n",
    "# 刷新\n",
    "sys.stdin.flush()\n",
    "# 输出修改后文件夹中包含的文件名称\n",
    "print(\"修改后：\" + str(os.listdir(r\"C:\\Users\\jundihappy\\Documents\\GitHub\\renamefiletest\"))[1])"
   ]
  },
  {
   "cell_type": "code",
   "execution_count": null,
   "metadata": {},
   "outputs": [],
   "source": []
  }
 ],
 "metadata": {
  "kernelspec": {
   "display_name": "Python 3",
   "language": "python",
   "name": "python3"
  },
  "language_info": {
   "codemirror_mode": {
    "name": "ipython",
    "version": 3
   },
   "file_extension": ".py",
   "mimetype": "text/x-python",
   "name": "python",
   "nbconvert_exporter": "python",
   "pygments_lexer": "ipython3",
   "version": "3.7.6"
  }
 },
 "nbformat": 4,
 "nbformat_minor": 4
}
