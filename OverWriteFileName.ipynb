{
 "cells": [
  {
   "cell_type": "code",
   "execution_count": 4,
   "metadata": {},
   "outputs": [
    {
     "name": "stdout",
     "output_type": "stream",
     "text": [
      "001.mp3\n",
      "002.mp3\n",
      "003.mp3\n",
      "004.mp3\n",
      "005.mp3\n",
      "006.mp3\n",
      "007.mp3\n",
      "008.mp3\n",
      "009.mp3\n",
      "010.mp3\n"
     ]
    }
   ],
   "source": [
    "#加载文件名称\n",
    "\n",
    "#批量生成文件名称\n",
    "\n",
    "for i in range(1,11):\n",
    "    filename = str(i).zfill(3) + '.mp3'\n",
    "    print(filename)\n",
    "    \n",
    "#批量修改文件名称\n"
   ]
  },
  {
   "cell_type": "code",
   "execution_count": 3,
   "metadata": {},
   "outputs": [
    {
     "name": "stdout",
     "output_type": "stream",
     "text": [
      "P\n",
      "y\n",
      "t\n",
      "h\n",
      "o\n",
      "n\n"
     ]
    }
   ],
   "source": [
    "for c in 'Python':\n",
    "    print(c)"
   ]
  },
  {
   "cell_type": "code",
   "execution_count": 7,
   "metadata": {},
   "outputs": [
    {
     "name": "stdout",
     "output_type": "stream",
     "text": [
      "x is:  0\n",
      "2**x is:  1\n",
      "x is:  1\n",
      "2**x is:  2\n",
      "x is:  2\n",
      "2**x is:  4\n",
      "x is:  3\n",
      "2**x is:  8\n",
      "x is:  4\n",
      "2**x is:  16\n",
      "x is:  5\n",
      "2**x is:  32\n",
      "x is:  6\n",
      "2**x is:  64\n",
      "x is:  7\n",
      "2**x is:  128\n"
     ]
    }
   ],
   "source": [
    "for x in range(8):\n",
    "    print('x is: ',x)\n",
    "    print('2**x is: ',2**x)"
   ]
  },
  {
   "cell_type": "code",
   "execution_count": 18,
   "metadata": {},
   "outputs": [
    {
     "name": "stdout",
     "output_type": "stream",
     "text": [
      "[74, 97, 47, 61, 27, 73, 43, 37, 6]\n",
      "[97, 47, 61, 27, 73, 43, 37]\n"
     ]
    }
   ],
   "source": [
    "import random\n",
    "\n",
    "n = 9\n",
    "\n",
    "a_list = [random.randrange(1,100) for i in range(n)]\n",
    "print(a_list)\n",
    "\n",
    "b_list = [x for x in a_list if x%2 != 0]\n",
    "print(b_list)"
   ]
  },
  {
   "cell_type": "code",
   "execution_count": 32,
   "metadata": {},
   "outputs": [
    {
     "name": "stdout",
     "output_type": "stream",
     "text": [
      "a_list:  [1, 2, 3]\n",
      "b_list:  [4, 5]\n",
      "c_list:  [1, 2, 3, 4, 5, 4, 5, 4, 5]\n",
      "False\n",
      "True\n"
     ]
    }
   ],
   "source": [
    "from IPython.core.interactiveshell import InteractiveShell\n",
    "InteractiveShell.ast_node_Interactivity = 'all'\n",
    "\n",
    "a_list = [1,2,3]\n",
    "b_list = [4,5]\n",
    "c_list = a_list + b_list * 3\n",
    "print(\"a_list: \", a_list)\n",
    "print(\"b_list: \", b_list)\n",
    "print(\"c_list: \", c_list)\n",
    "print(7 in c_list)\n",
    "print(a_list < b_list)"
   ]
  },
  {
   "cell_type": "code",
   "execution_count": 11,
   "metadata": {},
   "outputs": [
    {
     "name": "stdout",
     "output_type": "stream",
     "text": [
      "a_list:  [63, 81, 81]\n",
      "b_list:  [44, 52, 32]\n",
      "c_list:  [63, 81, 81, 44, 52, 32, 63, 81, 81, 63, 81, 81] , 长度：  12\n",
      "\n",
      "打印列表c索引号为2的数据： 81\n",
      "打印列表C所有数据 [63, 81, 81, 44, 52, 32, 63, 81, 81, 63, 81, 81] , 长度 12\n",
      "打印列表C索引值为5直到末尾的数据：  [32, 63, 81, 81, 63, 81, 81] , 长度:  7\n",
      "打印列表C从索引值0到3之前的数据：  [63, 81, 81] , 长度:  3\n",
      " [81, 44, 52] 3\n",
      "\n",
      "[63, 81, 81, 44, 52, 32, 63, 81, 81, 63, 81, 81]\n",
      "[63, 81, 81, 44, 52, 32, 63, 81, 81, 63, 81, 81]\n",
      "[63, 'a', 81, 'b', 52, 32, 63, 81, 81, 63, 81, 81]\n",
      "81\n",
      "[44, 52, 32]\n",
      "[32, 44, 52]\n",
      "[52, 44, 32]\n"
     ]
    }
   ],
   "source": [
    "import random\n",
    "n = 3\n",
    "a_list = [random.randrange(59,90) for i in range(n)] #生成列表A\n",
    "b_list = [random.randrange(30,70) for i in range(n)] #生产列表B\n",
    "c_list = a_list + b_list + a_list * 2 #生产列表C\n",
    "print(\"a_list: \", a_list)\n",
    "print(\"b_list: \", b_list)\n",
    "print(\"c_list: \", c_list, \", 长度： \",len(c_list))\n",
    "\n",
    "print() #在屏幕换行，显示为一行空\n",
    "\n",
    "# 根据索引提取数列数据\n",
    "print(\"打印列表c索引号为2的数据：\", c_list[2])\n",
    "print(\"打印列表C所有数据\", c_list[:], \", 长度\", len(c_list[:]))\n",
    "print(\"打印列表C索引值为5直到末尾的数据： \", c_list[5:], \", 长度: \", len(c_list[5:]))\n",
    "print(\"打印列表C从索引值0到3之前的数据： \", c_list[:3], \", 长度: \", len(c_list[:3]))\n",
    "print(\"\", c_list[2:5],len(c_list[2:5]))\n",
    "print() #在屏幕换行，显示为一行空\n",
    "\n",
    "#根据索引删除\n",
    "#del c_list[0]\n",
    "print(c_list)\n",
    "#del c_list[0:5]\n",
    "print(c_list)\n",
    "\n",
    "#根据索引替换\n",
    "c_list[1:5:2] = ['a','b']\n",
    "print(c_list)\n",
    "\n",
    "#内建函数\n",
    "print(max(a_list))\n",
    "print(b_list)\n",
    "b_list.sort()\n",
    "print(b_list)\n",
    "b_list.sort(reverse = True)\n",
    "print(b_list)"
   ]
  },
  {
   "cell_type": "code",
   "execution_count": 1,
   "metadata": {},
   "outputs": [
    {
     "name": "stdout",
     "output_type": "stream",
     "text": [
      "(1, 2, 3)\n",
      "(1, 2, 3)\n",
      "True\n"
     ]
    }
   ],
   "source": [
    "a = 1,2,3\n",
    "b = (1,2,3)\n",
    "print(a)\n",
    "print(b)\n",
    "print(a == b)"
   ]
  },
  {
   "cell_type": "code",
   "execution_count": 6,
   "metadata": {},
   "outputs": [
    {
     "data": {
      "text/plain": [
       "(2,)"
      ]
     },
     "execution_count": 6,
     "metadata": {},
     "output_type": "execute_result"
    },
    {
     "data": {
      "text/plain": [
       "2"
      ]
     },
     "execution_count": 6,
     "metadata": {},
     "output_type": "execute_result"
    },
    {
     "data": {
      "text/plain": [
       "2"
      ]
     },
     "execution_count": 6,
     "metadata": {},
     "output_type": "execute_result"
    },
    {
     "data": {
      "text/plain": [
       "int"
      ]
     },
     "execution_count": 6,
     "metadata": {},
     "output_type": "execute_result"
    },
    {
     "data": {
      "text/plain": [
       "(2,)"
      ]
     },
     "execution_count": 6,
     "metadata": {},
     "output_type": "execute_result"
    },
    {
     "data": {
      "text/plain": [
       "True"
      ]
     },
     "execution_count": 6,
     "metadata": {},
     "output_type": "execute_result"
    }
   ],
   "source": [
    "from IPython.core.interactiveshell import InteractiveShell\n",
    "InteractiveShell.ast_node_interactivity = 'all'\n",
    "\n",
    "a = 2,\n",
    "a\n",
    "\n",
    "b = 2\n",
    "b\n",
    "\n",
    "c = (2)\n",
    "c\n",
    "type(c)\n",
    "\n",
    "d = (2,)\n",
    "d\n",
    "a == d"
   ]
  },
  {
   "cell_type": "code",
   "execution_count": 8,
   "metadata": {},
   "outputs": [
    {
     "name": "stdout",
     "output_type": "stream",
     "text": [
      "(1,)\n",
      "1987248155392\n",
      "(1, 3, 5)\n",
      "1987248354576\n"
     ]
    }
   ],
   "source": [
    "a = 1,\n",
    "print(a)\n",
    "print(id(a))\n",
    "\n",
    "a += 3,5\n",
    "print(a)\n",
    "print(id(a))"
   ]
  },
  {
   "cell_type": "code",
   "execution_count": 11,
   "metadata": {},
   "outputs": [
    {
     "data": {
      "text/plain": [
       "dict"
      ]
     },
     "execution_count": 11,
     "metadata": {},
     "output_type": "execute_result"
    },
    {
     "data": {
      "text/plain": [
       "set"
      ]
     },
     "execution_count": 11,
     "metadata": {},
     "output_type": "execute_result"
    },
    {
     "data": {
      "text/plain": [
       "'ancdjkfajlfjdljflasjasaaasaa'"
      ]
     },
     "execution_count": 11,
     "metadata": {},
     "output_type": "execute_result"
    },
    {
     "data": {
      "text/plain": [
       "{'d', 'f', 'j', 'k', 'l', 'n', 's'}"
      ]
     },
     "execution_count": 11,
     "metadata": {},
     "output_type": "execute_result"
    },
    {
     "data": {
      "text/plain": [
       "{'Joker', 'Moose'}"
      ]
     },
     "execution_count": 11,
     "metadata": {},
     "output_type": "execute_result"
    },
    {
     "data": {
      "text/plain": [
       "{'Ann', 'Chris', 'Jane', 'Moose', 'Zero'}"
      ]
     },
     "execution_count": 11,
     "metadata": {},
     "output_type": "execute_result"
    }
   ],
   "source": [
    "from IPython.core.interactiveshell import InteractiveShell\n",
    "InteractiveShell.ast_node_interactivity = 'all'\n",
    "a = {}\n",
    "b = set()\n",
    "type(a)\n",
    "type(b)\n",
    "\n",
    "c = \"ancdjkfajlfjdljflasjasaaasaa\"\n",
    "b = {x for x in c if x not in 'abc'}\n",
    "c\n",
    "b\n",
    "\n",
    "admins = {'Moose', 'Joker', 'Joker'}\n",
    "moderactors = {'Ann', 'Chris', 'Jane', 'Moose', 'Zero'}\n",
    "admins\n",
    "moderactors"
   ]
  },
  {
   "cell_type": "code",
   "execution_count": null,
   "metadata": {},
   "outputs": [],
   "source": []
  }
 ],
 "metadata": {
  "kernelspec": {
   "display_name": "Python 3",
   "language": "python",
   "name": "python3"
  },
  "language_info": {
   "codemirror_mode": {
    "name": "ipython",
    "version": 3
   },
   "file_extension": ".py",
   "mimetype": "text/x-python",
   "name": "python",
   "nbconvert_exporter": "python",
   "pygments_lexer": "ipython3",
   "version": "3.7.3"
  },
  "toc-autonumbering": true
 },
 "nbformat": 4,
 "nbformat_minor": 2
}
